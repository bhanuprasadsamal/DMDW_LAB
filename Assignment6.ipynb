{
  "nbformat": 4,
  "nbformat_minor": 0,
  "metadata": {
    "colab": {
      "provenance": []
    },
    "kernelspec": {
      "name": "python3",
      "display_name": "Python 3"
    },
    "language_info": {
      "name": "python"
    }
  },
  "cells": [
    {
      "cell_type": "markdown",
      "source": [
        "**Assignment-6**\n",
        "\n",
        "Aim: Find frequent patterns, associations, correlations, or causal structures among sets of\n",
        "\n",
        "items in transaction databases."
      ],
      "metadata": {
        "id": "G6RlWCJNNffB"
      }
    },
    {
      "cell_type": "code",
      "execution_count": 2,
      "metadata": {
        "id": "5V5kM0mRNT_n"
      },
      "outputs": [],
      "source": [
        "from numpy import *"
      ]
    },
    {
      "cell_type": "code",
      "source": [
        "data = [\n",
        "        ['T100',['M','O','N','K','E','Y']],\n",
        "        ['T200',['D','O','N','K','E','Y']],\n",
        "        ['T300',['M','A','K','E']],\n",
        "        ['T400',['M','U','C','K','Y']],\n",
        "        ['T500',['C','O','O','K','I','E']]\n",
        "        ]\n",
        "\n",
        "init = []\n",
        "for i in data:\n",
        "    for q in i[1]:\n",
        "        if(q not in init):\n",
        "            init.append(q)\n",
        "init = sorted(init)\n",
        "print(init)"
      ],
      "metadata": {
        "colab": {
          "base_uri": "https://localhost:8080/"
        },
        "id": "LJiAR9JXbYiM",
        "outputId": "b8ef2ceb-1ac5-4f8e-f283-3619b1fb35cd"
      },
      "execution_count": 8,
      "outputs": [
        {
          "output_type": "stream",
          "name": "stdout",
          "text": [
            "['A', 'C', 'D', 'E', 'I', 'K', 'M', 'N', 'O', 'U', 'Y']\n"
          ]
        }
      ]
    },
    {
      "cell_type": "code",
      "source": [
        "sp = 0.6\n",
        "s = int(sp*len(data))\n",
        "s"
      ],
      "metadata": {
        "colab": {
          "base_uri": "https://localhost:8080/"
        },
        "id": "EIXwIQeicLcV",
        "outputId": "313f1412-c0a2-499c-a295-b2540bb3ca2b"
      },
      "execution_count": 11,
      "outputs": [
        {
          "output_type": "execute_result",
          "data": {
            "text/plain": [
              "3"
            ]
          },
          "metadata": {},
          "execution_count": 11
        }
      ]
    },
    {
      "cell_type": "code",
      "source": [
        "from collections import Counter\n",
        "c = Counter()\n",
        "for i in init:\n",
        "    for d in data:\n",
        "        if(i in d[1]):\n",
        "            c[i]+=1\n",
        "print(\"C1:\")\n",
        "for i in c:\n",
        "    print(str([i])+\": \"+str(c[i]))\n",
        "print()\n",
        "l = Counter()\n",
        "for i in c:\n",
        "    if(c[i] >= s):\n",
        "        l[frozenset([i])]+=c[i]\n",
        "print(\"L1:\")\n",
        "for i in l:\n",
        "    print(str(list(i))+\": \"+str(l[i]))\n",
        "print()\n",
        "pl = l\n",
        "pos = 1\n",
        "for count in range (2,1000):\n",
        "    nc = set()\n",
        "    temp = list(l)\n",
        "    for i in range(0,len(temp)):\n",
        "        for j in range(i+1,len(temp)):\n",
        "            t = temp[i].union(temp[j])\n",
        "            if(len(t) == count):\n",
        "                nc.add(temp[i].union(temp[j]))\n",
        "    nc = list(nc)\n",
        "    c = Counter()\n",
        "    for i in nc:\n",
        "        c[i] = 0\n",
        "        for q in data:\n",
        "            temp = set(q[1])\n",
        "            if(i.issubset(temp)):\n",
        "                c[i]+=1\n",
        "    print(\"C\"+str(count)+\":\")\n",
        "    for i in c:\n",
        "        print(str(list(i))+\": \"+str(c[i]))\n",
        "    print()\n",
        "    l = Counter()\n",
        "    for i in c:\n",
        "        if(c[i] >= s):\n",
        "            l[i]+=c[i]\n",
        "    print(\"L\"+str(count)+\":\")\n",
        "    for i in l:\n",
        "        print(str(list(i))+\": \"+str(l[i]))\n",
        "    print()\n",
        "    if(len(l) == 0):\n",
        "        break\n",
        "    pl = l\n",
        "    pos = count\n",
        "print(\"Result: \")\n",
        "print(\"L\"+str(pos)+\":\")\n",
        "for i in pl:\n",
        "    print(str(list(i))+\": \"+str(pl[i]))\n",
        "print()"
      ],
      "metadata": {
        "colab": {
          "base_uri": "https://localhost:8080/"
        },
        "id": "S5cu7LP1cYhu",
        "outputId": "ddcef008-93e1-43f9-bffb-03fd4a83c9cb"
      },
      "execution_count": 10,
      "outputs": [
        {
          "output_type": "stream",
          "name": "stdout",
          "text": [
            "C1:\n",
            "['A']: 1\n",
            "['C']: 2\n",
            "['D']: 1\n",
            "['E']: 4\n",
            "['I']: 1\n",
            "['K']: 5\n",
            "['M']: 3\n",
            "['N']: 2\n",
            "['O']: 3\n",
            "['U']: 1\n",
            "['Y']: 3\n",
            "\n",
            "L1:\n",
            "['E']: 4\n",
            "['K']: 5\n",
            "['M']: 3\n",
            "['O']: 3\n",
            "['Y']: 3\n",
            "\n",
            "C2:\n",
            "['E', 'Y']: 2\n",
            "['K', 'Y']: 3\n",
            "['M', 'Y']: 2\n",
            "['O', 'K']: 3\n",
            "['O', 'Y']: 2\n",
            "['M', 'E']: 2\n",
            "['M', 'K']: 3\n",
            "['O', 'E']: 3\n",
            "['K', 'E']: 4\n",
            "['M', 'O']: 1\n",
            "\n",
            "L2:\n",
            "['K', 'Y']: 3\n",
            "['O', 'K']: 3\n",
            "['M', 'K']: 3\n",
            "['O', 'E']: 3\n",
            "['K', 'E']: 4\n",
            "\n",
            "C3:\n",
            "['M', 'K', 'E']: 2\n",
            "['O', 'K', 'Y']: 2\n",
            "['M', 'K', 'Y']: 2\n",
            "['K', 'E', 'Y']: 2\n",
            "['O', 'K', 'M']: 1\n",
            "['O', 'K', 'E']: 3\n",
            "\n",
            "L3:\n",
            "['O', 'K', 'E']: 3\n",
            "\n",
            "C4:\n",
            "\n",
            "L4:\n",
            "\n",
            "Result: \n",
            "L3:\n",
            "['O', 'K', 'E']: 3\n",
            "\n"
          ]
        }
      ]
    },
    {
      "cell_type": "code",
      "source": [],
      "metadata": {
        "id": "mocBDOghdCtw"
      },
      "execution_count": null,
      "outputs": []
    }
  ]
}