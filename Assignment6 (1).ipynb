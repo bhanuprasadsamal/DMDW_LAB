{
  "cells": [
    {
      "cell_type": "markdown",
      "metadata": {
        "id": "G6RlWCJNNffB"
      },
      "source": [
        "**Assignment-6**\n",
        "\n",
        "Aim: Find frequent patterns, associations, correlations, or causal structures among sets of\n",
        "\n",
        "items in transaction databases."
      ]
    },
    {
      "cell_type": "code",
      "execution_count": null,
      "metadata": {
        "id": "5V5kM0mRNT_n"
      },
      "outputs": [],
      "source": [
        "from numpy import *"
      ]
    },
    {
      "cell_type": "code",
      "execution_count": null,
      "metadata": {
        "colab": {
          "base_uri": "https://localhost:8080/"
        },
        "id": "LJiAR9JXbYiM",
        "outputId": "b8ef2ceb-1ac5-4f8e-f283-3619b1fb35cd"
      },
      "outputs": [
        {
          "name": "stdout",
          "output_type": "stream",
          "text": [
            "['A', 'C', 'D', 'E', 'I', 'K', 'M', 'N', 'O', 'U', 'Y']\n"
          ]
        }
      ],
      "source": [
        "data = [\n",
        "        ['T100',['M','O','N','K','E','Y']],\n",
        "        ['T200',['D','O','N','K','E','Y']],\n",
        "        ['T300',['M','A','K','E']],\n",
        "        ['T400',['M','U','C','K','Y']],\n",
        "        ['T500',['C','O','O','K','I','E']]\n",
        "        ]\n",
        "\n",
        "init = []\n",
        "for i in data:\n",
        "    for q in i[1]:\n",
        "        if(q not in init):\n",
        "            init.append(q)\n",
        "init = sorted(init)\n",
        "print(init)"
      ]
    },
    {
      "cell_type": "code",
      "execution_count": null,
      "metadata": {
        "colab": {
          "base_uri": "https://localhost:8080/"
        },
        "id": "EIXwIQeicLcV",
        "outputId": "313f1412-c0a2-499c-a295-b2540bb3ca2b"
      },
      "outputs": [
        {
          "data": {
            "text/plain": [
              "3"
            ]
          },
          "execution_count": 11,
          "metadata": {},
          "output_type": "execute_result"
        }
      ],
      "source": [
        "sp = 0.6\n",
        "s = int(sp*len(data))\n",
        "s"
      ]
    },
    {
      "cell_type": "code",
      "execution_count": null,
      "metadata": {
        "colab": {
          "base_uri": "https://localhost:8080/"
        },
        "id": "S5cu7LP1cYhu",
        "outputId": "ddcef008-93e1-43f9-bffb-03fd4a83c9cb"
      },
      "outputs": [
        {
          "name": "stdout",
          "output_type": "stream",
          "text": [
            "C1:\n",
            "['A']: 1\n",
            "['C']: 2\n",
            "['D']: 1\n",
            "['E']: 4\n",
            "['I']: 1\n",
            "['K']: 5\n",
            "['M']: 3\n",
            "['N']: 2\n",
            "['O']: 3\n",
            "['U']: 1\n",
            "['Y']: 3\n",
            "\n",
            "L1:\n",
            "['E']: 4\n",
            "['K']: 5\n",
            "['M']: 3\n",
            "['O']: 3\n",
            "['Y']: 3\n",
            "\n",
            "C2:\n",
            "['E', 'Y']: 2\n",
            "['K', 'Y']: 3\n",
            "['M', 'Y']: 2\n",
            "['O', 'K']: 3\n",
            "['O', 'Y']: 2\n",
            "['M', 'E']: 2\n",
            "['M', 'K']: 3\n",
            "['O', 'E']: 3\n",
            "['K', 'E']: 4\n",
            "['M', 'O']: 1\n",
            "\n",
            "L2:\n",
            "['K', 'Y']: 3\n",
            "['O', 'K']: 3\n",
            "['M', 'K']: 3\n",
            "['O', 'E']: 3\n",
            "['K', 'E']: 4\n",
            "\n",
            "C3:\n",
            "['M', 'K', 'E']: 2\n",
            "['O', 'K', 'Y']: 2\n",
            "['M', 'K', 'Y']: 2\n",
            "['K', 'E', 'Y']: 2\n",
            "['O', 'K', 'M']: 1\n",
            "['O', 'K', 'E']: 3\n",
            "\n",
            "L3:\n",
            "['O', 'K', 'E']: 3\n",
            "\n",
            "C4:\n",
            "\n",
            "L4:\n",
            "\n",
            "Result: \n",
            "L3:\n",
            "['O', 'K', 'E']: 3\n",
            "\n"
          ]
        }
      ],
      "source": [
        "from collections import Counter\n",
        "c = Counter()\n",
        "for i in init:\n",
        "    for d in data:\n",
        "        if(i in d[1]):\n",
        "            c[i]+=1\n",
        "print(\"C1:\")\n",
        "for i in c:\n",
        "    print(str([i])+\": \"+str(c[i]))\n",
        "print()\n",
        "l = Counter()\n",
        "for i in c:\n",
        "    if(c[i] >= s):\n",
        "        l[frozenset([i])]+=c[i]\n",
        "print(\"L1:\")\n",
        "for i in l:\n",
        "    print(str(list(i))+\": \"+str(l[i]))\n",
        "print()\n",
        "pl = l\n",
        "pos = 1\n",
        "for count in range (2,1000):\n",
        "    nc = set()\n",
        "    temp = list(l)\n",
        "    for i in range(0,len(temp)):\n",
        "        for j in range(i+1,len(temp)):\n",
        "            t = temp[i].union(temp[j])\n",
        "            if(len(t) == count):\n",
        "                nc.add(temp[i].union(temp[j]))\n",
        "    nc = list(nc)\n",
        "    c = Counter()\n",
        "    for i in nc:\n",
        "        c[i] = 0\n",
        "        for q in data:\n",
        "            temp = set(q[1])\n",
        "            if(i.issubset(temp)):\n",
        "                c[i]+=1\n",
        "    print(\"C\"+str(count)+\":\")\n",
        "    for i in c:\n",
        "        print(str(list(i))+\": \"+str(c[i]))\n",
        "    print()\n",
        "    l = Counter()\n",
        "    for i in c:\n",
        "        if(c[i] >= s):\n",
        "            l[i]+=c[i]\n",
        "    print(\"L\"+str(count)+\":\")\n",
        "    for i in l:\n",
        "        print(str(list(i))+\": \"+str(l[i]))\n",
        "    print()\n",
        "    if(len(l) == 0):\n",
        "        break\n",
        "    pl = l\n",
        "    pos = count\n",
        "print(\"Result: \")\n",
        "print(\"L\"+str(pos)+\":\")\n",
        "for i in pl:\n",
        "    print(str(list(i))+\": \"+str(pl[i]))\n",
        "print()"
      ]
    },
    {
      "cell_type": "markdown",
      "metadata": {
        "id": "pGgkcSgnXDG2"
      },
      "source": [
        "Mining association rules from frequent item sets\n"
      ]
    },
    {
      "cell_type": "code",
      "execution_count": null,
      "metadata": {
        "colab": {
          "background_save": true,
          "base_uri": "https://localhost:8080/",
          "height": 141
        },
        "id": "mocBDOghdCtw",
        "outputId": "d2e3206f-a009-4ba8-9f75-cd7febc568cf"
      },
      "outputs": [
        {
          "ename": "SyntaxError",
          "evalue": "ignored",
          "output_type": "error",
          "traceback": [
            "\u001b[0;36m  File \u001b[0;32m\"<ipython-input-5-07b363cfd411>\"\u001b[0;36m, line \u001b[0;32m4\u001b[0m\n\u001b[0;31m    for freqSetinL[i]:\u001b[0m\n\u001b[0m                     ^\u001b[0m\n\u001b[0;31mSyntaxError\u001b[0m\u001b[0;31m:\u001b[0m invalid syntax\n"
          ]
        }
      ],
      "source": [
        "def generateRules(L,supportData,minConf=0.7):#supportData is a dict coming from scanD\n",
        "  bigRuleList=[]\n",
        "for i in range(1,len(L)):#only get the sets with two or more items\n",
        "  for freqSetinL[i]:\n",
        "    H1=[frozenset([item])for item in freqSet]\n",
        "if(i>1):\n",
        "rulesFromConseq(freqSet,H1,supportData,bigRuleList,minConf)\n",
        "else:\n",
        "calcConf(freqSet,H1,supportData,bigRuleList,minConf)\n",
        "return bigRuleList"
      ]
    },
    {
      "cell_type": "code",
      "execution_count": null,
      "metadata": {
        "id": "JhFHq30XZ1L_"
      },
      "outputs": [],
      "source": [
        "def calcConf(freqSet,H,supportData,brl,minConf=0.7):\n",
        "prunedH=[]#create new list to return\n",
        "for conseqinH:\n",
        "conf=supportData[freqSet]/supportData[freqSet-conseq]#calc confidence\n",
        "if conf >= minConf:\n",
        "print(freqSet-conseq,'-->',conseq,'conf:',conf)\n",
        "brl.append((freqSet-conseq,conseq,conf))\n",
        "prunedH.append(conseq)\n",
        "return prunedH"
      ]
    },
    {
      "cell_type": "code",
      "execution_count": null,
      "metadata": {
        "id": "zxCOiDFQag4H"
      },
      "outputs": [],
      "source": [
        "def rulesFromConseq(freqSet,H,supportData,brl,minConf=0.7):\n",
        "m=len(H[0])\n",
        "if(len(freqSet)>(m+1)):#try further merging\n",
        "Hmp1=aprioriGen(H,m+1)#create Hm+1 new candidates\n",
        "Hmp1=calcConf(freqSet,Hmp1,supportData,brl,minConf)\n",
        "if(len(Hmp1)>1):#need at least two sets to merge\n",
        "rulesFromConseq(freqSet,Hmp1,supportData,brl,minConf)"
      ]
    },
    {
      "cell_type": "code",
      "execution_count": null,
      "metadata": {
        "colab": {
          "background_save": true
        },
        "id": "gR1SkF1Daz3X",
        "outputId": "c70c2bde-a274-41b3-8af8-02c11c33189d"
      },
      "outputs": [
        {
          "ename": "NameError",
          "evalue": "ignored",
          "output_type": "error",
          "traceback": [
            "\u001b[0;31m---------------------------------------------------------------------------\u001b[0m",
            "\u001b[0;31mNameError\u001b[0m                                 Traceback (most recent call last)",
            "\u001b[0;32m<ipython-input-55-7d7a82e6ba0f>\u001b[0m in \u001b[0;36m<cell line: 1>\u001b[0;34m()\u001b[0m\n\u001b[0;32m----> 1\u001b[0;31m \u001b[0mL\u001b[0m\u001b[0;34m,\u001b[0m\u001b[0msuppData\u001b[0m\u001b[0;34m=\u001b[0m\u001b[0mapriori\u001b[0m\u001b[0;34m(\u001b[0m\u001b[0mdataSet\u001b[0m\u001b[0;34m,\u001b[0m\u001b[0mminSupport\u001b[0m\u001b[0;34m=\u001b[0m\u001b[0;36m0.5\u001b[0m\u001b[0;34m)\u001b[0m\u001b[0;34m\u001b[0m\u001b[0;34m\u001b[0m\u001b[0m\n\u001b[0m",
            "\u001b[0;32m<ipython-input-24-bd2c4d488625>\u001b[0m in \u001b[0;36mapriori\u001b[0;34m(dataSet, minSupport)\u001b[0m\n\u001b[1;32m      2\u001b[0m  \u001b[0mC1\u001b[0m \u001b[0;34m=\u001b[0m \u001b[0mcreateC1\u001b[0m\u001b[0;34m(\u001b[0m\u001b[0mdataSet\u001b[0m\u001b[0;34m)\u001b[0m\u001b[0;34m\u001b[0m\u001b[0;34m\u001b[0m\u001b[0m\n\u001b[1;32m      3\u001b[0m  \u001b[0mD\u001b[0m \u001b[0;34m=\u001b[0m \u001b[0mlist\u001b[0m\u001b[0;34m(\u001b[0m\u001b[0mmap\u001b[0m\u001b[0;34m(\u001b[0m\u001b[0mset\u001b[0m\u001b[0;34m,\u001b[0m \u001b[0mdataSet\u001b[0m\u001b[0;34m)\u001b[0m\u001b[0;34m)\u001b[0m\u001b[0;34m\u001b[0m\u001b[0;34m\u001b[0m\u001b[0m\n\u001b[0;32m----> 4\u001b[0;31m  \u001b[0mL1\u001b[0m\u001b[0;34m,\u001b[0m \u001b[0msupportData\u001b[0m \u001b[0;34m=\u001b[0m \u001b[0mscanD\u001b[0m\u001b[0;34m(\u001b[0m\u001b[0mD\u001b[0m\u001b[0;34m,\u001b[0m \u001b[0mC1\u001b[0m\u001b[0;34m,\u001b[0m \u001b[0mminSupport\u001b[0m\u001b[0;34m)\u001b[0m\u001b[0;34m\u001b[0m\u001b[0;34m\u001b[0m\u001b[0m\n\u001b[0m\u001b[1;32m      5\u001b[0m  \u001b[0mL\u001b[0m \u001b[0;34m=\u001b[0m \u001b[0;34m[\u001b[0m\u001b[0mL1\u001b[0m\u001b[0;34m]\u001b[0m\u001b[0;34m\u001b[0m\u001b[0;34m\u001b[0m\u001b[0m\n\u001b[1;32m      6\u001b[0m  \u001b[0mk\u001b[0m \u001b[0;34m=\u001b[0m \u001b[0;36m2\u001b[0m\u001b[0;34m\u001b[0m\u001b[0;34m\u001b[0m\u001b[0m\n",
            "\u001b[0;32m<ipython-input-52-35b447f2405f>\u001b[0m in \u001b[0;36mscanD\u001b[0;34m(D, Ck, minSupport)\u001b[0m\n\u001b[1;32m      4\u001b[0m     \u001b[0;32mfor\u001b[0m \u001b[0mcan\u001b[0m \u001b[0;32min\u001b[0m \u001b[0mCk\u001b[0m\u001b[0;34m:\u001b[0m\u001b[0;34m\u001b[0m\u001b[0;34m\u001b[0m\u001b[0m\n\u001b[1;32m      5\u001b[0m       \u001b[0;32mif\u001b[0m \u001b[0mcan\u001b[0m\u001b[0;34m.\u001b[0m\u001b[0missubset\u001b[0m\u001b[0;34m(\u001b[0m\u001b[0mtid\u001b[0m\u001b[0;34m)\u001b[0m\u001b[0;34m:\u001b[0m\u001b[0;34m\u001b[0m\u001b[0;34m\u001b[0m\u001b[0m\n\u001b[0;32m----> 6\u001b[0;31m         \u001b[0;32mif\u001b[0m \u001b[0mnotcan\u001b[0m \u001b[0;32min\u001b[0m \u001b[0mssCnt\u001b[0m\u001b[0;34m:\u001b[0m\u001b[0;34m\u001b[0m\u001b[0;34m\u001b[0m\u001b[0m\n\u001b[0m\u001b[1;32m      7\u001b[0m           \u001b[0mssCnt\u001b[0m\u001b[0;34m[\u001b[0m\u001b[0mcan\u001b[0m\u001b[0;34m]\u001b[0m\u001b[0;34m=\u001b[0m\u001b[0;36m1\u001b[0m\u001b[0;34m\u001b[0m\u001b[0;34m\u001b[0m\u001b[0m\n\u001b[1;32m      8\u001b[0m         \u001b[0;32melse\u001b[0m\u001b[0;34m:\u001b[0m\u001b[0;34m\u001b[0m\u001b[0;34m\u001b[0m\u001b[0m\n",
            "\u001b[0;31mNameError\u001b[0m: name 'notcan' is not defined"
          ]
        }
      ],
      "source": [
        "L,suppData=apriori(dataSet,minSupport=0.5)"
      ]
    },
    {
      "cell_type": "code",
      "execution_count": null,
      "metadata": {
        "colab": {
          "background_save": true
        },
        "id": "UwuzWiBda80g",
        "outputId": "79a57497-e64e-42e8-d2fb-de237ea646e3"
      },
      "outputs": [
        {
          "ename": "SyntaxError",
          "evalue": "ignored",
          "output_type": "error",
          "traceback": [
            "\u001b[0;36m  File \u001b[0;32m\"<ipython-input-56-f67d1fbd8841>\"\u001b[0;36m, line \u001b[0;32m2\u001b[0m\n\u001b[0;31m    frozenset({1}) --> frozenset({3}) conf: 1.0\u001b[0m\n\u001b[0m                    ^\u001b[0m\n\u001b[0;31mSyntaxError\u001b[0m\u001b[0;31m:\u001b[0m invalid syntax\n"
          ]
        }
      ],
      "source": [
        "rules = generateRules(L,suppData,minConf=0.7)\n",
        "frozenset({1}) --> frozenset({3}) conf: 1.0\n",
        "frozenset({5}) --> frozenset({2}) conf: 1.0\n",
        "frozenset({2}) --> frozenset({5}) conf: 1.0"
      ]
    }
  ],
  "metadata": {
    "colab": {
      "provenance": []
    },
    "kernelspec": {
      "display_name": "Python 3",
      "name": "python3"
    },
    "language_info": {
      "name": "python"
    }
  },
  "nbformat": 4,
  "nbformat_minor": 0
}